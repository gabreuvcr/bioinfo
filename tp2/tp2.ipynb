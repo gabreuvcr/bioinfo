{
 "metadata": {
  "language_info": {
   "codemirror_mode": {
    "name": "ipython",
    "version": 3
   },
   "file_extension": ".py",
   "mimetype": "text/x-python",
   "name": "python",
   "nbconvert_exporter": "python",
   "pygments_lexer": "ipython3",
   "version": "3.9.0-final"
  },
  "orig_nbformat": 2,
  "kernelspec": {
   "name": "python3",
   "display_name": "Python 3.9.0 64-bit",
   "metadata": {
    "interpreter": {
     "hash": "63fd5069d213b44bf678585dea6b12cceca9941eaf7f819626cde1f2670de90d"
    }
   }
  }
 },
 "nbformat": 4,
 "nbformat_minor": 2,
 "cells": [
  {
   "source": [
    "### Trabalho prático 2 - Bioinformatica\n",
    "Gabriel Victor Carvalho Rocha - 2018054907  \n",
    "Guilherme Bezerra dos Santos - <sua_matricula>"
   ],
   "cell_type": "markdown",
   "metadata": {}
  },
  {
   "source": [
    "reads = ['TGGCA', 'GCATTGCAA', 'TGCAAT', 'CAATT', 'ATTTGAC']\n",
    "dna_seq = 'TGGCATTGCAATTTGAC'"
   ],
   "cell_type": "code",
   "metadata": {},
   "execution_count": 1,
   "outputs": []
  },
  {
   "source": [
    "## Overlap Layout Consensus (OLC)"
   ],
   "cell_type": "markdown",
   "metadata": {}
  },
  {
   "cell_type": "code",
   "execution_count": 2,
   "metadata": {},
   "outputs": [
    {
     "output_type": "stream",
     "name": "stdout",
     "text": [
      "['TGGCA', 'GCATTGCAA', 'TGCAAT', 'CAATT', 'ATTTGAC']\n"
     ]
    }
   ],
   "source": [
    "print(reads)"
   ]
  },
  {
   "cell_type": "code",
   "execution_count": 3,
   "metadata": {},
   "outputs": [],
   "source": [
    "def overlap(a, b, min_len=3):\n",
    "    inicio = 0\n",
    "    while True:\n",
    "        inicio = a.find(b[:min_len], inicio)\n",
    "        if inicio == -1:\n",
    "            return 0\n",
    "        elif b.startswith(a[inicio:]):\n",
    "            return len(a) - inicio\n",
    "        inicio += 1"
   ]
  },
  {
   "cell_type": "code",
   "execution_count": 4,
   "metadata": {},
   "outputs": [
    {
     "output_type": "stream",
     "name": "stdout",
     "text": [
      "3\n"
     ]
    }
   ],
   "source": [
    "print(overlap('TGGCA', 'GCATTGCAA', 3))"
   ]
  },
  {
   "cell_type": "code",
   "execution_count": 5,
   "metadata": {},
   "outputs": [],
   "source": [
    "from itertools import permutations\n",
    "\n",
    "def naive_overlap(reads, min_len):\n",
    "    overlaps = dict()\n",
    "    for a, b in permutations(reads, 2):\n",
    "        overlap_len = overlap(a, b, min_len)\n",
    "        if overlap_len > 0:\n",
    "            overlaps[(a, b)] = overlap_len\n",
    "    return overlaps"
   ]
  },
  {
   "cell_type": "code",
   "execution_count": 6,
   "metadata": {},
   "outputs": [
    {
     "output_type": "execute_result",
     "data": {
      "text/plain": [
       "{('TGGCA', 'GCATTGCAA'): 3,\n",
       " ('GCATTGCAA', 'TGCAAT'): 5,\n",
       " ('GCATTGCAA', 'CAATT'): 3,\n",
       " ('TGCAAT', 'CAATT'): 4,\n",
       " ('CAATT', 'ATTTGAC'): 3}"
      ]
     },
     "metadata": {},
     "execution_count": 6
    }
   ],
   "source": [
    "naive_overlap(reads, min_len=3)"
   ]
  },
  {
   "cell_type": "code",
   "execution_count": 7,
   "metadata": {},
   "outputs": [],
   "source": [
    "def pegar_maximo_overlap(reads, min_len):\n",
    "    readA, readB = None, None\n",
    "    melhor_overlap = 0\n",
    "    for a, b in permutations(reads, 2):\n",
    "        overlap_len = overlap(a, b, min_len)\n",
    "        if overlap_len > melhor_overlap:\n",
    "            readA, readB = a, b\n",
    "            melhor_overlap = overlap_len\n",
    "    return readA, readB, melhor_overlap"
   ]
  },
  {
   "cell_type": "code",
   "execution_count": 8,
   "metadata": {},
   "outputs": [
    {
     "output_type": "execute_result",
     "data": {
      "text/plain": [
       "('GCATTGCAA', 'TGCAAT', 5)"
      ]
     },
     "metadata": {},
     "execution_count": 8
    }
   ],
   "source": [
    "pegar_maximo_overlap(reads, min_len=3)"
   ]
  },
  {
   "cell_type": "code",
   "execution_count": 9,
   "metadata": {},
   "outputs": [],
   "source": [
    "def olc_guloso(reads, min_len):\n",
    "    readA, readB, overlap_len = pegar_maximo_overlap(reads, min_len)\n",
    "    while overlap_len > 0:\n",
    "        reads.remove(readA)\n",
    "        reads.remove(readB)\n",
    "        reads.append(readA + readB[overlap_len:])\n",
    "        readA, readB, overlap_len = pegar_maximo_overlap(reads, min_len)\n",
    "    return ''.join(reads)"
   ]
  },
  {
   "cell_type": "code",
   "execution_count": 10,
   "metadata": {},
   "outputs": [
    {
     "output_type": "execute_result",
     "data": {
      "text/plain": [
       "'TGGCATTGCAATTTGAC'"
      ]
     },
     "metadata": {},
     "execution_count": 10
    }
   ],
   "source": [
    "olc_guloso(reads, min_len=3)"
   ]
  },
  {
   "source": [
    "## Grafos de Bruijin (DBG)"
   ],
   "cell_type": "markdown",
   "metadata": {}
  },
  {
   "cell_type": "code",
   "execution_count": 11,
   "metadata": {},
   "outputs": [
    {
     "output_type": "stream",
     "name": "stdout",
     "text": [
      "TGGCATTGCAATTTGAC\n"
     ]
    }
   ],
   "source": [
    "print(dna_seq)"
   ]
  },
  {
   "cell_type": "code",
   "execution_count": 12,
   "metadata": {},
   "outputs": [],
   "source": [
    "def de_bruijin_graph(dna_seq, kmer):\n",
    "    vertices = set()\n",
    "    arestas = list()\n",
    "    for i in range(len(dna_seq) - kmer + 1):\n",
    "        vertices.add(dna_seq[i: i + kmer - 1])\n",
    "        vertices.add(dna_seq[i + 1: i + kmer])\n",
    "        \n",
    "        arestas.append((dna_seq[i: i + kmer - 1], dna_seq[i + 1: i + kmer]))\n",
    "    return vertices, arestas"
   ]
  },
  {
   "cell_type": "code",
   "execution_count": 13,
   "metadata": {},
   "outputs": [],
   "source": [
    "vertices, arestas = de_bruijin_graph(dna_seq, 4)"
   ]
  },
  {
   "cell_type": "code",
   "execution_count": 14,
   "metadata": {},
   "outputs": [
    {
     "output_type": "stream",
     "name": "stdout",
     "text": [
      "Os vértices são {'TGA', 'ATT', 'TTT', 'GAC', 'CAT', 'CAA', 'GGC', 'TGC', 'TTG', 'AAT', 'TGG', 'GCA'}\n"
     ]
    }
   ],
   "source": [
    "print(f\"Os vértices são {vertices}\")"
   ]
  },
  {
   "cell_type": "code",
   "execution_count": 15,
   "metadata": {},
   "outputs": [
    {
     "output_type": "stream",
     "name": "stdout",
     "text": [
      "As arestas são [('TGG', 'GGC'), ('GGC', 'GCA'), ('GCA', 'CAT'), ('CAT', 'ATT'), ('ATT', 'TTG'), ('TTG', 'TGC'), ('TGC', 'GCA'), ('GCA', 'CAA'), ('CAA', 'AAT'), ('AAT', 'ATT'), ('ATT', 'TTT'), ('TTT', 'TTG'), ('TTG', 'TGA'), ('TGA', 'GAC')]\n"
     ]
    }
   ],
   "source": [
    "print(f\"As arestas são {arestas}\")"
   ]
  },
  {
   "cell_type": "code",
   "execution_count": 31,
   "metadata": {},
   "outputs": [],
   "source": [
    "def visualizar_de_bruijin(dna_seq, kmer):\n",
    "    vertices, arestas = de_bruijin_graph(dna_seq, kmer)\n",
    "\n",
    "    dot_str = 'digraph \"DeBruijin graph\" {\\n'\n",
    "\n",
    "    for v in vertices:\n",
    "        dot_str += f' {v} [label=\"{v}\"];\\n'\n",
    "    for fonte, destino in arestas:\n",
    "        dot_str += f' {fonte} -> {destino};\\n'\n",
    "    return dot_str + '}\\n'"
   ]
  },
  {
   "cell_type": "code",
   "execution_count": 32,
   "metadata": {},
   "outputs": [
    {
     "output_type": "stream",
     "name": "stdout",
     "text": [
      "digraph \"DeBruijin graph\" {\n TGA [label=\"TGA\"];\n ATT [label=\"ATT\"];\n TTT [label=\"TTT\"];\n GAC [label=\"GAC\"];\n CAT [label=\"CAT\"];\n CAA [label=\"CAA\"];\n GGC [label=\"GGC\"];\n TGC [label=\"TGC\"];\n TTG [label=\"TTG\"];\n AAT [label=\"AAT\"];\n TGG [label=\"TGG\"];\n GCA [label=\"GCA\"];\n TGG -> GGC;\n GGC -> GCA;\n GCA -> CAT;\n CAT -> ATT;\n ATT -> TTG;\n TTG -> TGC;\n TGC -> GCA;\n GCA -> CAA;\n CAA -> AAT;\n AAT -> ATT;\n ATT -> TTT;\n TTT -> TTG;\n TTG -> TGA;\n TGA -> GAC;\n}\n\n"
     ]
    }
   ],
   "source": [
    "print(visualizar_de_bruijin(dna_seq, 4))"
   ]
  },
  {
   "cell_type": "code",
   "execution_count": 33,
   "metadata": {},
   "outputs": [
    {
     "output_type": "stream",
     "name": "stdout",
     "text": [
      "The gvmagic extension is already loaded. To reload it, use:\n  %reload_ext gvmagic\n"
     ]
    }
   ],
   "source": [
    "%load_ext gvmagic"
   ]
  },
  {
   "cell_type": "code",
   "execution_count": 34,
   "metadata": {},
   "outputs": [
    {
     "output_type": "display_data",
     "data": {
      "text/plain": "<IPython.core.display.SVG object>",
      "image/svg+xml": "<svg xmlns=\"http://www.w3.org/2000/svg\" xmlns:xlink=\"http://www.w3.org/1999/xlink\" width=\"293pt\" height=\"476pt\" viewBox=\"0.00 0.00 292.78 476.00\">\n<g id=\"graph0\" class=\"graph\" transform=\"scale(1 1) rotate(0) translate(4 472)\">\n<title>DeBruijin graph</title>\n<polygon fill=\"white\" stroke=\"transparent\" points=\"-4,4 -4,-472 288.78,-472 288.78,4 -4,4\"/>\n<!-- TGA -->\n<g id=\"node1\" class=\"node\">\n<title>TGA</title>\n<ellipse fill=\"none\" stroke=\"black\" cx=\"60.23\" cy=\"-378\" rx=\"29.8\" ry=\"18\"/>\n<text text-anchor=\"middle\" x=\"60.23\" y=\"-374.3\" font-family=\"Times New Roman,serif\" font-size=\"14.00\">TGA</text>\n</g>\n<!-- GAC -->\n<g id=\"node4\" class=\"node\">\n<title>GAC</title>\n<ellipse fill=\"none\" stroke=\"black\" cx=\"59.23\" cy=\"-306\" rx=\"30.59\" ry=\"18\"/>\n<text text-anchor=\"middle\" x=\"59.23\" y=\"-302.3\" font-family=\"Times New Roman,serif\" font-size=\"14.00\">GAC</text>\n</g>\n<!-- TGA&#45;&gt;GAC -->\n<g id=\"edge14\" class=\"edge\">\n<title>TGA-&gt;GAC</title>\n<path fill=\"none\" stroke=\"black\" d=\"M59.99,-359.7C59.88,-351.98 59.75,-342.71 59.62,-334.11\"/>\n<polygon fill=\"black\" stroke=\"black\" points=\"63.12,-334.05 59.48,-324.1 56.12,-334.15 63.12,-334.05\"/>\n</g>\n<!-- ATT -->\n<g id=\"node2\" class=\"node\">\n<title>ATT</title>\n<ellipse fill=\"none\" stroke=\"black\" cx=\"146.23\" cy=\"-90\" rx=\"28.7\" ry=\"18\"/>\n<text text-anchor=\"middle\" x=\"146.23\" y=\"-86.3\" font-family=\"Times New Roman,serif\" font-size=\"14.00\">ATT</text>\n</g>\n<!-- TTT -->\n<g id=\"node3\" class=\"node\">\n<title>TTT</title>\n<ellipse fill=\"none\" stroke=\"black\" cx=\"59.23\" cy=\"-18\" rx=\"28.7\" ry=\"18\"/>\n<text text-anchor=\"middle\" x=\"59.23\" y=\"-14.3\" font-family=\"Times New Roman,serif\" font-size=\"14.00\">TTT</text>\n</g>\n<!-- ATT&#45;&gt;TTT -->\n<g id=\"edge11\" class=\"edge\">\n<title>ATT-&gt;TTT</title>\n<path fill=\"none\" stroke=\"black\" d=\"M129.05,-75.17C116.21,-64.85 98.49,-50.58 84.11,-39.01\"/>\n<polygon fill=\"black\" stroke=\"black\" points=\"86.08,-36.1 76.09,-32.56 81.69,-41.56 86.08,-36.1\"/>\n</g>\n<!-- TTG -->\n<g id=\"node9\" class=\"node\">\n<title>TTG</title>\n<ellipse fill=\"none\" stroke=\"black\" cx=\"89.23\" cy=\"-450\" rx=\"29.5\" ry=\"18\"/>\n<text text-anchor=\"middle\" x=\"89.23\" y=\"-446.3\" font-family=\"Times New Roman,serif\" font-size=\"14.00\">TTG</text>\n</g>\n<!-- ATT&#45;&gt;TTG -->\n<g id=\"edge5\" class=\"edge\">\n<title>ATT-&gt;TTG</title>\n<path fill=\"none\" stroke=\"black\" d=\"M140.7,-107.84C132.54,-134.21 118.23,-187.02 118.23,-233 118.23,-307 118.23,-307 118.23,-307 118.23,-348.01 106.48,-394.36 97.94,-422.63\"/>\n<polygon fill=\"black\" stroke=\"black\" points=\"94.6,-421.59 94.96,-432.18 101.28,-423.67 94.6,-421.59\"/>\n</g>\n<!-- TTT&#45;&gt;TTG -->\n<g id=\"edge12\" class=\"edge\">\n<title>TTT-&gt;TTG</title>\n<path fill=\"none\" stroke=\"black\" d=\"M47.86,-34.72C30.71,-60.01 0.23,-111.88 0.23,-161 0.23,-307 0.23,-307 0.23,-307 0.23,-347.64 -0.7,-361.79 21.23,-396 30.65,-410.68 45.57,-422.97 59.05,-432.01\"/>\n<polygon fill=\"black\" stroke=\"black\" points=\"57.3,-435.05 67.62,-437.47 61.07,-429.15 57.3,-435.05\"/>\n</g>\n<!-- CAT -->\n<g id=\"node5\" class=\"node\">\n<title>CAT</title>\n<ellipse fill=\"none\" stroke=\"black\" cx=\"175.23\" cy=\"-162\" rx=\"29.5\" ry=\"18\"/>\n<text text-anchor=\"middle\" x=\"175.23\" y=\"-158.3\" font-family=\"Times New Roman,serif\" font-size=\"14.00\">CAT</text>\n</g>\n<!-- CAT&#45;&gt;ATT -->\n<g id=\"edge4\" class=\"edge\">\n<title>CAT-&gt;ATT</title>\n<path fill=\"none\" stroke=\"black\" d=\"M168.36,-144.41C165.02,-136.34 160.91,-126.43 157.15,-117.35\"/>\n<polygon fill=\"black\" stroke=\"black\" points=\"160.32,-115.86 153.26,-107.96 153.85,-118.53 160.32,-115.86\"/>\n</g>\n<!-- CAA -->\n<g id=\"node6\" class=\"node\">\n<title>CAA</title>\n<ellipse fill=\"none\" stroke=\"black\" cx=\"246.23\" cy=\"-234\" rx=\"29.8\" ry=\"18\"/>\n<text text-anchor=\"middle\" x=\"246.23\" y=\"-230.3\" font-family=\"Times New Roman,serif\" font-size=\"14.00\">CAA</text>\n</g>\n<!-- AAT -->\n<g id=\"node10\" class=\"node\">\n<title>AAT</title>\n<ellipse fill=\"none\" stroke=\"black\" cx=\"251.23\" cy=\"-162\" rx=\"29.5\" ry=\"18\"/>\n<text text-anchor=\"middle\" x=\"251.23\" y=\"-158.3\" font-family=\"Times New Roman,serif\" font-size=\"14.00\">AAT</text>\n</g>\n<!-- CAA&#45;&gt;AAT -->\n<g id=\"edge9\" class=\"edge\">\n<title>CAA-&gt;AAT</title>\n<path fill=\"none\" stroke=\"black\" d=\"M247.47,-215.7C248.02,-207.98 248.68,-198.71 249.3,-190.11\"/>\n<polygon fill=\"black\" stroke=\"black\" points=\"252.79,-190.33 250.01,-180.1 245.81,-189.83 252.79,-190.33\"/>\n</g>\n<!-- GGC -->\n<g id=\"node7\" class=\"node\">\n<title>GGC</title>\n<ellipse fill=\"none\" stroke=\"black\" cx=\"254.23\" cy=\"-378\" rx=\"30.59\" ry=\"18\"/>\n<text text-anchor=\"middle\" x=\"254.23\" y=\"-374.3\" font-family=\"Times New Roman,serif\" font-size=\"14.00\">GGC</text>\n</g>\n<!-- GCA -->\n<g id=\"node12\" class=\"node\">\n<title>GCA</title>\n<ellipse fill=\"none\" stroke=\"black\" cx=\"213.23\" cy=\"-306\" rx=\"30.59\" ry=\"18\"/>\n<text text-anchor=\"middle\" x=\"213.23\" y=\"-302.3\" font-family=\"Times New Roman,serif\" font-size=\"14.00\">GCA</text>\n</g>\n<!-- GGC&#45;&gt;GCA -->\n<g id=\"edge2\" class=\"edge\">\n<title>GGC-&gt;GCA</title>\n<path fill=\"none\" stroke=\"black\" d=\"M244.73,-360.76C239.71,-352.19 233.44,-341.49 227.82,-331.9\"/>\n<polygon fill=\"black\" stroke=\"black\" points=\"230.77,-330.01 222.69,-323.15 224.73,-333.55 230.77,-330.01\"/>\n</g>\n<!-- TGC -->\n<g id=\"node8\" class=\"node\">\n<title>TGC</title>\n<ellipse fill=\"none\" stroke=\"black\" cx=\"176.23\" cy=\"-378\" rx=\"29.8\" ry=\"18\"/>\n<text text-anchor=\"middle\" x=\"176.23\" y=\"-374.3\" font-family=\"Times New Roman,serif\" font-size=\"14.00\">TGC</text>\n</g>\n<!-- TGC&#45;&gt;GCA -->\n<g id=\"edge7\" class=\"edge\">\n<title>TGC-&gt;GCA</title>\n<path fill=\"none\" stroke=\"black\" d=\"M185,-360.41C189.43,-352.04 194.89,-341.71 199.83,-332.37\"/>\n<polygon fill=\"black\" stroke=\"black\" points=\"202.95,-333.95 204.53,-323.47 196.76,-330.68 202.95,-333.95\"/>\n</g>\n<!-- TTG&#45;&gt;TGA -->\n<g id=\"edge13\" class=\"edge\">\n<title>TTG-&gt;TGA</title>\n<path fill=\"none\" stroke=\"black\" d=\"M82.36,-432.41C79.02,-424.34 74.91,-414.43 71.15,-405.35\"/>\n<polygon fill=\"black\" stroke=\"black\" points=\"74.32,-403.86 67.26,-395.96 67.85,-406.53 74.32,-403.86\"/>\n</g>\n<!-- TTG&#45;&gt;TGC -->\n<g id=\"edge6\" class=\"edge\">\n<title>TTG-&gt;TGC</title>\n<path fill=\"none\" stroke=\"black\" d=\"M106.42,-435.17C119.17,-424.91 136.75,-410.77 151.08,-399.24\"/>\n<polygon fill=\"black\" stroke=\"black\" points=\"153.49,-401.8 159.08,-392.8 149.1,-396.34 153.49,-401.8\"/>\n</g>\n<!-- AAT&#45;&gt;ATT -->\n<g id=\"edge10\" class=\"edge\">\n<title>AAT-&gt;ATT</title>\n<path fill=\"none\" stroke=\"black\" d=\"M231.98,-148.16C215.7,-137.31 192.17,-121.62 173.88,-109.43\"/>\n<polygon fill=\"black\" stroke=\"black\" points=\"175.63,-106.39 165.37,-103.76 171.75,-112.22 175.63,-106.39\"/>\n</g>\n<!-- TGG -->\n<g id=\"node11\" class=\"node\">\n<title>TGG</title>\n<ellipse fill=\"none\" stroke=\"black\" cx=\"254.23\" cy=\"-450\" rx=\"30.59\" ry=\"18\"/>\n<text text-anchor=\"middle\" x=\"254.23\" y=\"-446.3\" font-family=\"Times New Roman,serif\" font-size=\"14.00\">TGG</text>\n</g>\n<!-- TGG&#45;&gt;GGC -->\n<g id=\"edge1\" class=\"edge\">\n<title>TGG-&gt;GGC</title>\n<path fill=\"none\" stroke=\"black\" d=\"M254.23,-431.7C254.23,-423.98 254.23,-414.71 254.23,-406.11\"/>\n<polygon fill=\"black\" stroke=\"black\" points=\"257.73,-406.1 254.23,-396.1 250.73,-406.1 257.73,-406.1\"/>\n</g>\n<!-- GCA&#45;&gt;CAT -->\n<g id=\"edge3\" class=\"edge\">\n<title>GCA-&gt;CAT</title>\n<path fill=\"none\" stroke=\"black\" d=\"M208.73,-288.15C202.21,-263.81 190.11,-218.57 182.37,-189.67\"/>\n<polygon fill=\"black\" stroke=\"black\" points=\"185.7,-188.58 179.74,-179.82 178.94,-190.39 185.7,-188.58\"/>\n</g>\n<!-- GCA&#45;&gt;CAA -->\n<g id=\"edge8\" class=\"edge\">\n<title>GCA-&gt;CAA</title>\n<path fill=\"none\" stroke=\"black\" d=\"M221.06,-288.41C224.96,-280.13 229.77,-269.92 234.14,-260.66\"/>\n<polygon fill=\"black\" stroke=\"black\" points=\"237.37,-262.01 238.47,-251.47 231.04,-259.02 237.37,-262.01\"/>\n</g>\n</g>\n</svg>"
     },
     "metadata": {}
    }
   ],
   "source": [
    "%dotstr visualizar_de_bruijin(dna_seq, 4)"
   ]
  }
 ]
}